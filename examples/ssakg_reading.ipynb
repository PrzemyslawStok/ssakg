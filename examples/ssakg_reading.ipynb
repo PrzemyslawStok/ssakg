{
 "cells": [
  {
   "cell_type": "markdown",
   "id": "e28dca1c38b0eaad",
   "metadata": {},
   "source": [
    "### This example shows how to create a small SSAKG to illustrate how to read sequence.\n",
    "\n",
    "We start create a SSAKG with 20 neurons, each neuron corresponding to a single symbol.\n",
    "We would like to insert sequences of length 5."
   ]
  },
  {
   "cell_type": "code",
   "id": "96c12c28b37560c1",
   "metadata": {
    "ExecuteTime": {
     "end_time": "2025-04-11T08:29:31.832218Z",
     "start_time": "2025-04-11T08:29:31.235825Z"
    }
   },
   "source": [
    "from ssakg.ssakg import SSAKG\n",
    "\n",
    "ssakg = SSAKG(number_of_symbols=20, sequence_length=5, graphs_to_drawing=True)\n",
    "ssakg.insert([[5, 1, 3, 4, 5], [1, 2, 3, 8, 10]])"
   ],
   "outputs": [],
   "execution_count": 1
  },
  {
   "cell_type": "markdown",
   "id": "dccbaca211af9051",
   "metadata": {},
   "source": [
    "Let's read the sequence using provided context.\n",
    "The context is a fragment of the sequence, the elements of the context can be given in random order."
   ]
  },
  {
   "cell_type": "code",
   "id": "2435d6d0e7198bab",
   "metadata": {
    "ExecuteTime": {
     "end_time": "2025-04-11T08:29:31.936557Z",
     "start_time": "2025-04-11T08:29:31.931788Z"
    }
   },
   "source": [
    "read_sequence = ssakg.get_sequence([3, 1, 5])\n",
    "print(read_sequence)"
   ],
   "outputs": [
    {
     "name": "stdout",
     "output_type": "stream",
     "text": [
      "[5 1 3 4 5]\n"
     ]
    }
   ],
   "execution_count": 2
  },
  {
   "cell_type": "markdown",
   "id": "aa6d12f55c6a1e7d",
   "metadata": {},
   "source": "Context may contain elements that are repeated many times e.g. [5,1,5]. If we want to use a symbol that occurs a second time in the sequence (e.g. 5), and we don't wont to use two symbols (5,5) we can use this form of the symbol \"5_2\"."
  },
  {
   "cell_type": "code",
   "id": "d566c46a2271942",
   "metadata": {
    "ExecuteTime": {
     "end_time": "2025-04-11T08:29:32.014350Z",
     "start_time": "2025-04-11T08:29:32.011680Z"
    }
   },
   "source": [
    "read_sequence = ssakg.get_sequence([\"5_2\", 5, 1])\n",
    "print(read_sequence)"
   ],
   "outputs": [
    {
     "name": "stdout",
     "output_type": "stream",
     "text": [
      "[5 1 3 4 5]\n"
     ]
    }
   ],
   "execution_count": 3
  },
  {
   "metadata": {
    "ExecuteTime": {
     "end_time": "2025-04-11T08:29:32.135179Z",
     "start_time": "2025-04-11T08:29:32.133664Z"
    }
   },
   "cell_type": "code",
   "source": "",
   "id": "e253dd3e52ffd6e3",
   "outputs": [],
   "execution_count": null
  }
 ],
 "metadata": {
  "kernelspec": {
   "display_name": "Python 3 (ipykernel)",
   "language": "python",
   "name": "python3"
  },
  "language_info": {
   "codemirror_mode": {
    "name": "ipython",
    "version": 3
   },
   "file_extension": ".py",
   "mimetype": "text/x-python",
   "name": "python",
   "nbconvert_exporter": "python",
   "pygments_lexer": "ipython3",
   "version": "3.12.1"
  }
 },
 "nbformat": 4,
 "nbformat_minor": 5
}
